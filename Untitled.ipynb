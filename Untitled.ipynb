{
 "cells": [
  {
   "cell_type": "code",
   "execution_count": 14,
   "id": "7ea8114a-d40a-46db-ae83-5917a08db7e0",
   "metadata": {},
   "outputs": [
    {
     "name": "stdout",
     "output_type": "stream",
     "text": [
      "ieran\n",
      "ieran\n",
      "Expection occur is <class 'ZeroDivisionError'>\n",
      "Expection occur is <class 'ZeroDivisionError'>\n",
      "Expection occur is ZeroDivisionError\n",
      "Expection description is division by zero\n",
      "Divided   by zero \n"
     ]
    }
   ],
   "source": [
    "print('ieran')\n",
    "try:\n",
    "    print('ieran')\n",
    "    print(100/0)\n",
    "    print('hashei')\n",
    "except ZeroDivisionError as e:\n",
    "    print('Expection occur is',type(e))  #print type of exception\n",
    "    print('Expection occur is',e.__class__) #anothor way to \n",
    "    print('Expection occur is',e.__class__.__name__) \n",
    "    print('Expection description is',e)  \n",
    "    print('Divided   by zero ')"
   ]
  },
  {
   "cell_type": "code",
   "execution_count": 18,
   "id": "8abee4ff-e5ca-4374-baab-8bd316788a96",
   "metadata": {},
   "outputs": [
    {
     "name": "stdin",
     "output_type": "stream",
     "text": [
      "Enter a number y\n"
     ]
    },
    {
     "name": "stdout",
     "output_type": "stream",
     "text": [
      "You got exception <class 'ValueError'>\n"
     ]
    },
    {
     "name": "stdin",
     "output_type": "stream",
     "text": [
      "Enter a number 4\n",
      "Enter a secound number 5\n"
     ]
    },
    {
     "name": "stdout",
     "output_type": "stream",
     "text": [
      "0.8\n"
     ]
    }
   ],
   "source": [
    "try:\n",
    "    num1=int(input('Enter a number'))\n",
    "    num2=int(input('Enter a secound number'))\n",
    "    print(num1/num2)\n",
    "except BaseException as e:\n",
    "    print('You got exception',type(e))\n",
    "    num1=int(input('Enter a number'))\n",
    "    num2=int(input('Enter a secound number'))\n",
    "    print(num1/num2)"
   ]
  },
  {
   "cell_type": "code",
   "execution_count": 23,
   "id": "3c98f2bb-c533-4225-8bb6-06e193f20ce3",
   "metadata": {},
   "outputs": [
    {
     "name": "stdin",
     "output_type": "stream",
     "text": [
      "Enter a number 67\n",
      "Enter a secound number 0\n"
     ]
    },
    {
     "name": "stdout",
     "output_type": "stream",
     "text": [
      "You got  <class 'ZeroDivisionError'>\n"
     ]
    }
   ],
   "source": [
    "try:\n",
    "    num1=int(input('Enter a number'))\n",
    "    num2=int(input('Enter a secound number'))\n",
    "    print(num1/num2)\n",
    "except ZeroDivisionError as e:\n",
    "    print('You got ',type(e))\n",
    "except ValueError as e:\n",
    "    print('you got',type(e))"
   ]
  },
  {
   "cell_type": "code",
   "execution_count": 31,
   "id": "5a557ccf-8ede-4750-ad83-076082cbe18c",
   "metadata": {},
   "outputs": [
    {
     "name": "stdout",
     "output_type": "stream",
     "text": [
      "this is zero error\n"
     ]
    }
   ],
   "source": [
    "number=90\n",
    "number1=0\n",
    "try:\n",
    "    x=number/number1\n",
    "except ZeroDivisionError as e:\n",
    "    print('this is zero error')\n",
    "except ArithmeticError:\n",
    "    print('this is arithrmtic error')"
   ]
  },
  {
   "cell_type": "code",
   "execution_count": 2,
   "id": "6e438843-f210-4e4e-9b46-f04b05aedec3",
   "metadata": {},
   "outputs": [
    {
     "name": "stdin",
     "output_type": "stream",
     "text": [
      "Enter a number y\n"
     ]
    },
    {
     "name": "stdout",
     "output_type": "stream",
     "text": [
      "<class 'ValueError'>\n"
     ]
    }
   ],
   "source": [
    "try:\n",
    "    num1=int(input('Enter a number'))\n",
    "    num2=int(input('Enter a secound number'))\n",
    "    print(num1/num2)\n",
    "except(ZeroDivisionError,ValueError) as e:\n",
    "    print(type(e))\n",
    "    "
   ]
  },
  {
   "cell_type": "code",
   "execution_count": 3,
   "id": "2db0064f-a861-4ae4-a544-0d038bb82a18",
   "metadata": {},
   "outputs": [
    {
     "name": "stdout",
     "output_type": "stream",
     "text": [
      "The numbers are not valid\n"
     ]
    }
   ],
   "source": [
    "number=90\n",
    "number1='two'\n",
    "try:\n",
    "    x=number/number1\n",
    "except ZeroDivisionError as e:\n",
    "    print('this is zero error')\n",
    "except:\n",
    "    print('The numbers are not valid')"
   ]
  },
  {
   "cell_type": "code",
   "execution_count": 4,
   "id": "d0aec8ad-42dd-45f1-ba6c-b093c4375f79",
   "metadata": {},
   "outputs": [
    {
     "ename": "SyntaxError",
     "evalue": "default 'except:' must be last (<ipython-input-4-1cb7319b7b7a>, line 7)",
     "output_type": "error",
     "traceback": [
      "\u001b[1;36m  File \u001b[1;32m\"<ipython-input-4-1cb7319b7b7a>\"\u001b[1;36m, line \u001b[1;32m7\u001b[0m\n\u001b[1;33m    except ZeroDivisionError as e:\u001b[0m\n\u001b[1;37m               ^\u001b[0m\n\u001b[1;31mSyntaxError\u001b[0m\u001b[1;31m:\u001b[0m default 'except:' must be last\n"
     ]
    }
   ],
   "source": [
    "number=90\n",
    "number1='two'\n",
    "try:\n",
    "    x=number/number1\n",
    "except:\n",
    "    print('The numbers are not valid')\n",
    "except ZeroDivisionError as e:\n",
    "    print('this is zero error')\n"
   ]
  },
  {
   "cell_type": "code",
   "execution_count": 5,
   "id": "b20bce4c-8a71-495b-88a4-969ae0997d0e",
   "metadata": {},
   "outputs": [
    {
     "name": "stdout",
     "output_type": "stream",
     "text": [
      "try\n",
      "exception\n",
      "finally\n"
     ]
    }
   ],
   "source": [
    "try:\n",
    "    print('try')\n",
    "    print(10/0)\n",
    "except:\n",
    "    print('exception')\n",
    "finally:\n",
    "    print('finally')"
   ]
  },
  {
   "cell_type": "code",
   "execution_count": 7,
   "id": "32b4e496-dda0-416d-b292-50c88ec7ce98",
   "metadata": {},
   "outputs": [
    {
     "name": "stdout",
     "output_type": "stream",
     "text": [
      "try\n",
      "finally\n"
     ]
    },
    {
     "ename": "ZeroDivisionError",
     "evalue": "division by zero",
     "output_type": "error",
     "traceback": [
      "\u001b[1;31m---------------------------------------------------------------------------\u001b[0m",
      "\u001b[1;31mZeroDivisionError\u001b[0m                         Traceback (most recent call last)",
      "\u001b[1;32m<ipython-input-7-f5783c11fdab>\u001b[0m in \u001b[0;36m<module>\u001b[1;34m\u001b[0m\n\u001b[0;32m      1\u001b[0m \u001b[1;32mtry\u001b[0m\u001b[1;33m:\u001b[0m\u001b[1;33m\u001b[0m\u001b[1;33m\u001b[0m\u001b[0m\n\u001b[0;32m      2\u001b[0m     \u001b[0mprint\u001b[0m\u001b[1;33m(\u001b[0m\u001b[1;34m'try'\u001b[0m\u001b[1;33m)\u001b[0m\u001b[1;33m\u001b[0m\u001b[1;33m\u001b[0m\u001b[0m\n\u001b[1;32m----> 3\u001b[1;33m     \u001b[0mprint\u001b[0m\u001b[1;33m(\u001b[0m\u001b[1;36m10\u001b[0m\u001b[1;33m/\u001b[0m\u001b[1;36m0\u001b[0m\u001b[1;33m)\u001b[0m\u001b[1;33m\u001b[0m\u001b[1;33m\u001b[0m\u001b[0m\n\u001b[0m\u001b[0;32m      4\u001b[0m \u001b[1;32mexcept\u001b[0m \u001b[0mValueError\u001b[0m\u001b[1;33m:\u001b[0m\u001b[1;33m\u001b[0m\u001b[1;33m\u001b[0m\u001b[0m\n\u001b[0;32m      5\u001b[0m     \u001b[0mprint\u001b[0m\u001b[1;33m(\u001b[0m\u001b[1;34m'exception'\u001b[0m\u001b[1;33m)\u001b[0m\u001b[1;33m\u001b[0m\u001b[1;33m\u001b[0m\u001b[0m\n",
      "\u001b[1;31mZeroDivisionError\u001b[0m: division by zero"
     ]
    }
   ],
   "source": [
    "try:\n",
    "    print('try')\n",
    "    print(10/0)\n",
    "except ValueError:\n",
    "    print('exception')\n",
    "finally:\n",
    "    print('finally')"
   ]
  },
  {
   "cell_type": "code",
   "execution_count": null,
   "id": "5f66e22f-be51-4872-9028-cc262e70751a",
   "metadata": {},
   "outputs": [],
   "source": [
    "import os \n",
    "try:\n",
    "    print('try')\n",
    "   \n",
    "    print(10/0)\n",
    "    \n",
    "except: \n",
    "    print('exception')\n",
    "    os._exit(0)\n",
    "finally:\n",
    "    print('finally')"
   ]
  },
  {
   "cell_type": "code",
   "execution_count": 6,
   "id": "292c40b7-38ee-4260-bc29-fe286647926b",
   "metadata": {},
   "outputs": [
    {
     "name": "stdout",
     "output_type": "stream",
     "text": [
      "The curremt value is 0\n",
      "The curremt value is 1\n",
      "The curremt value is 2\n",
      "The curremt value is 3\n",
      "The curremt value is 4\n",
      "The curremt value is 5\n",
      "The loop will execute\n"
     ]
    }
   ],
   "source": [
    "# if loop is without break than else will execute \n",
    "for index in range(6):\n",
    "    print('The curremt value is',index)\n",
    "else:\n",
    "    print('The loop will execute')"
   ]
  },
  {
   "cell_type": "code",
   "execution_count": 5,
   "id": "399c1999-e62c-4283-b564-830d11eded51",
   "metadata": {},
   "outputs": [
    {
     "name": "stdout",
     "output_type": "stream",
     "text": [
      "The curremt value is 0\n",
      "The curremt value is 1\n",
      "The curremt value is 2\n",
      "The curremt value is 3\n",
      "The curremt value is 4\n",
      "The loop will execute\n"
     ]
    }
   ],
   "source": [
    "# if loop is with break than else will execute \n",
    "for index in range(6):\n",
    "    print('The curremt value is',index)\n",
    "    if index>3:\n",
    "        break\n",
    "else:\n",
    "    print('The loop will execute')"
   ]
  },
  {
   "cell_type": "code",
   "execution_count": 10,
   "id": "5cd4b56f-eb82-435f-bcb6-db6f59a1e6bb",
   "metadata": {},
   "outputs": [
    {
     "name": "stdout",
     "output_type": "stream",
     "text": [
      "try\n",
      "exception\n",
      "finally\n"
     ]
    }
   ],
   "source": [
    "try:\n",
    "    #risky code\n",
    "    print('try')\n",
    "    print(10/0)\n",
    "except:\n",
    "    #handel code \n",
    "    print('exception')\n",
    "else:\n",
    "    #it only execute when there is no expection in try block\n",
    "    print('else')\n",
    "finally:\n",
    "    #execute always \n",
    "    print('finally')"
   ]
  },
  {
   "cell_type": "code",
   "execution_count": 11,
   "id": "ddf0f9a9-4fa0-4a5c-9947-a786e99383b7",
   "metadata": {},
   "outputs": [
    {
     "name": "stdout",
     "output_type": "stream",
     "text": [
      "try\n",
      "else\n",
      "finally\n"
     ]
    }
   ],
   "source": [
    "try:\n",
    "    #risky code\n",
    "    print('try')\n",
    "except:\n",
    "    #handel code \n",
    "    print('exception')\n",
    "else:\n",
    "    #it only execute when there is no expection in try block\n",
    "    print('else')\n",
    "finally:\n",
    "    #execute always use to close resources which you open in try block  \n",
    "    print('finally')"
   ]
  },
  {
   "cell_type": "code",
   "execution_count": 12,
   "id": "70e6de30-4fa2-46e4-a63c-c0e685ca033a",
   "metadata": {},
   "outputs": [
    {
     "ename": "SyntaxError",
     "evalue": "invalid syntax (<ipython-input-12-6566a96ec90b>, line 4)",
     "output_type": "error",
     "traceback": [
      "\u001b[1;36m  File \u001b[1;32m\"<ipython-input-12-6566a96ec90b>\"\u001b[1;36m, line \u001b[1;32m4\u001b[0m\n\u001b[1;33m    else:\u001b[0m\n\u001b[1;37m       ^\u001b[0m\n\u001b[1;31mSyntaxError\u001b[0m\u001b[1;31m:\u001b[0m invalid syntax\n"
     ]
    }
   ],
   "source": [
    "# you cant use else without except\n",
    "try:\n",
    "    #risky code\n",
    "    print('try')\n",
    "else:\n",
    "    #it only execute when there is no expection in try block\n",
    "    print('else')\n",
    "finally:\n",
    "    #execute always \n",
    "    print('finally')"
   ]
  },
  {
   "cell_type": "code",
   "execution_count": 17,
   "id": "9bc68600-2465-4850-b01c-668059e0b5ea",
   "metadata": {},
   "outputs": [
    {
     "name": "stdout",
     "output_type": "stream",
     "text": [
      "some problem is in file allocation\n"
     ]
    }
   ],
   "source": [
    "try:\n",
    "    f=open('abcc.txt',mode='r')\n",
    "except:\n",
    "    print('some problem is in file allocation')\n",
    "else:\n",
    "    print(f.read())\n",
    "finally:\n",
    "    if f is not None:\n",
    "        f.close()\n",
    "    "
   ]
  },
  {
   "cell_type": "code",
   "execution_count": 20,
   "id": "f0b98de7-8e5a-4714-b623-f507088bce43",
   "metadata": {},
   "outputs": [
    {
     "name": "stdout",
     "output_type": "stream",
     "text": [
      "try\n",
      "finally\n"
     ]
    },
    {
     "ename": "ZeroDivisionError",
     "evalue": "division by zero",
     "output_type": "error",
     "traceback": [
      "\u001b[1;31m---------------------------------------------------------------------------\u001b[0m",
      "\u001b[1;31mZeroDivisionError\u001b[0m                         Traceback (most recent call last)",
      "\u001b[1;32m<ipython-input-20-10415681969c>\u001b[0m in \u001b[0;36m<module>\u001b[1;34m\u001b[0m\n\u001b[0;32m      2\u001b[0m \u001b[1;32mtry\u001b[0m\u001b[1;33m:\u001b[0m\u001b[1;33m\u001b[0m\u001b[1;33m\u001b[0m\u001b[0m\n\u001b[0;32m      3\u001b[0m     \u001b[0mprint\u001b[0m\u001b[1;33m(\u001b[0m\u001b[1;34m'try'\u001b[0m\u001b[1;33m)\u001b[0m\u001b[1;33m\u001b[0m\u001b[1;33m\u001b[0m\u001b[0m\n\u001b[1;32m----> 4\u001b[1;33m     \u001b[0mx\u001b[0m\u001b[1;33m=\u001b[0m\u001b[1;36m1\u001b[0m\u001b[1;33m/\u001b[0m\u001b[1;36m0\u001b[0m\u001b[1;33m\u001b[0m\u001b[1;33m\u001b[0m\u001b[0m\n\u001b[0m\u001b[0;32m      5\u001b[0m \u001b[1;32mfinally\u001b[0m\u001b[1;33m:\u001b[0m\u001b[1;33m\u001b[0m\u001b[1;33m\u001b[0m\u001b[0m\n\u001b[0;32m      6\u001b[0m     \u001b[0mprint\u001b[0m\u001b[1;33m(\u001b[0m\u001b[1;34m'finally'\u001b[0m\u001b[1;33m)\u001b[0m\u001b[1;33m\u001b[0m\u001b[1;33m\u001b[0m\u001b[0m\n",
      "\u001b[1;31mZeroDivisionError\u001b[0m: division by zero"
     ]
    }
   ],
   "source": [
    "#this sytax is valid\n",
    "try:\n",
    "    print('try')\n",
    "    x=1/0\n",
    "finally:\n",
    "    print('finally')\n",
    "\n",
    "    "
   ]
  },
  {
   "cell_type": "code",
   "execution_count": 4,
   "id": "09332442-9fdd-4692-a3d8-e14d8a74250b",
   "metadata": {},
   "outputs": [
    {
     "name": "stdin",
     "output_type": "stream",
     "text": [
      "Enter your name ii\n"
     ]
    },
    {
     "name": "stdout",
     "output_type": "stream",
     "text": [
      "your allow to login\n"
     ]
    }
   ],
   "source": [
    "class imranException(Exception):\n",
    "    def __init__(self,msg):\n",
    "        self.msg=msg\n",
    "class hashmiException(Exception):\n",
    "    def __init__(self,msg):\n",
    "        self.msg=msg\n",
    "name=input('Enter your name')\n",
    "if name=='hashmi':\n",
    "    raise hashmiException('the user is hashmi')\n",
    "elif name=='imran':\n",
    "    raise imranException('the user is imran')\n",
    "else:\n",
    "    print('your allow to login')\n"
   ]
  },
  {
   "cell_type": "code",
   "execution_count": null,
   "id": "4288fc87-383f-47c4-b9f7-0c9e53088bfb",
   "metadata": {},
   "outputs": [],
   "source": []
  }
 ],
 "metadata": {
  "kernelspec": {
   "display_name": "Python 3",
   "language": "python",
   "name": "python3"
  },
  "language_info": {
   "codemirror_mode": {
    "name": "ipython",
    "version": 3
   },
   "file_extension": ".py",
   "mimetype": "text/x-python",
   "name": "python",
   "nbconvert_exporter": "python",
   "pygments_lexer": "ipython3",
   "version": "3.7.5"
  }
 },
 "nbformat": 4,
 "nbformat_minor": 5
}
